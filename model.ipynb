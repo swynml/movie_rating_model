{
 "cells": [
  {
   "cell_type": "code",
   "execution_count": 2,
   "metadata": {},
   "outputs": [],
   "source": [
    "import pandas as pd\n",
    "import numpy as np\n",
    "from tqdm import tqdm\n",
    "import imdb\n",
    "import seaborn as sns\n",
    "import matplotlib.pyplot as plt\n",
    "import re\n",
    "from datetime import datetime\n",
    "from sklearn.model_selection import train_test_split\n",
    "\n",
    "import torch\n",
    "from torch import nn\n",
    "import torch.nn.functional as F\n",
    "from torch.utils.data import Dataset"
   ]
  },
  {
   "cell_type": "code",
   "execution_count": 3,
   "metadata": {},
   "outputs": [
    {
     "name": "stdout",
     "output_type": "stream",
     "text": [
      "Using cpu device\n"
     ]
    }
   ],
   "source": [
    "# if torch.cuda.is_available():\n",
    "#     device = torch.device('cuda')\n",
    "# elif torch.backends.mps.is_available():\n",
    "#     device = torch.device('mps')\n",
    "# else:\n",
    "device = torch.device('cpu')\n",
    "\n",
    "print(f'Using {device} device')"
   ]
  },
  {
   "cell_type": "code",
   "execution_count": 4,
   "metadata": {},
   "outputs": [],
   "source": [
    "class RecommendationModel(nn.Module):\n",
    "    def __init__(self, users_count, movies_count, embedding_size, features_count, context_count):\n",
    "        super(RecommendationModel, self).__init__()\n",
    "        self.user_embedding = nn.Embedding(users_count, embedding_size)\n",
    "        self.movie_embedding = nn.Embedding(movies_count, embedding_size)\n",
    "        self.um_dense = nn.Linear(2*embedding_size, embedding_size)\n",
    "        self.um_dense_2 = nn.Linear(embedding_size, 10)\n",
    "\n",
    "        self.movie_features = nn.Linear(features_count, 10)\n",
    "        self.user_context = nn.Linear(context_count, context_count)\n",
    "\n",
    "        self.final_fc1 = nn.Linear(10+10+2, 10)\n",
    "        self.output = nn.Linear(10, 1)\n",
    "\n",
    "    def forward(self, x):\n",
    "        x_user = x['user'] \n",
    "        x_movie = x['movie']\n",
    "        x_movie_features = x['movie_features']\n",
    "        x_context_features = x['user_context']\n",
    "\n",
    "        emb_user = self.user_embedding(x_user)\n",
    "        emb_movie = self.movie_embedding(x_movie)\n",
    "        um_cat = torch.cat((emb_user, emb_movie), 1)\n",
    "        um_fc1 = F.relu(self.um_dense(um_cat))\n",
    "        um_fc2 = F.relu(self.um_dense_2(um_fc1))\n",
    "\n",
    "        feat_fc = F.relu(self.movie_features(x_movie_features))\n",
    "        con_fc = F.relu(self.user_context(x_context_features))\n",
    "\n",
    "        final_cat = F.sigmoid(self.output(con_fc))\n",
    "\n",
    "        return final_cat\n",
    "\n",
    "class RecommendationDataset(Dataset):\n",
    "    def __init__(self, device, data_path, features, contexts, dataset_type = 'train'):\n",
    "        self.device = device\n",
    "        full_df = pd.read_csv(data_path)\n",
    "        self.all_users = list(full_df['user'].unique())\n",
    "        self.all_movies = list(full_df['product'].unique())\n",
    "\n",
    "        X_train, X_test, y_train, y_test = train_test_split(full_df.loc[:, full_df.columns != 'y'], \n",
    "                                                            full_df['y'], \n",
    "                                                            test_size=.2, \n",
    "                                                            random_state=42)\n",
    "\n",
    "        if dataset_type == 'train':\n",
    "            tmp_x_user = X_train['user'].to_numpy()\n",
    "            tmp_x_movie = X_train['product'].to_numpy()\n",
    "            tmp_x_feats = X_train[features].to_numpy()\n",
    "            tmp_x_contexts = X_train[contexts].to_numpy()\n",
    "            tmp_y = y_train.to_numpy()\n",
    "        elif dataset_type == 'test':\n",
    "            tmp_x_user = X_test['user'].to_numpy()\n",
    "            tmp_x_movie = X_test['product'].to_numpy()\n",
    "            tmp_x_feats = X_test[features].to_numpy()\n",
    "            tmp_x_contexts = X_test[contexts].to_numpy()\n",
    "            tmp_y = y_test.to_numpy()\n",
    "        \n",
    "        self.x_user_tensors = torch.tensor(tmp_x_user, dtype=torch.int64, device=self.device)\n",
    "        self.x_movie_tensors = torch.tensor(tmp_x_movie, dtype=torch.int64, device=self.device)\n",
    "        self.x_feats_tensors = torch.tensor(tmp_x_feats, dtype=torch.int64, device=self.device)\n",
    "        self.x_contexts_tensors = torch.tensor(tmp_x_contexts, dtype=torch.int64, device=self.device)\n",
    "        self.y_data = torch.tensor(tmp_y, dtype=torch.int64, device=self.device)\n",
    "\n",
    "    def __len__(self):\n",
    "        return len(self.x_user_tensors)\n",
    "\n",
    "    def __getitem__(self, idx):\n",
    "        if torch.is_tensor(idx):\n",
    "            idx = idx.tolist()\n",
    "        \n",
    "        users_vector = torch.tensor([1 if x==self.x_user_tensors[idx].item() else 0 for x in self.all_users], dtype=torch.int64, device=self.device)\n",
    "        movies_vector = torch.tensor([1 if x==self.x_movie_tensors[idx].item() else 0 for x in self.all_movies], dtype=torch.int64, device=self.device)\n",
    "        feats_vector = self.x_feats_tensors[idx]\n",
    "        context_vector = self.x_contexts_tensors[idx]\n",
    "        y_vector = self.y_data[idx]\n",
    "\n",
    "        return {'user': users_vector, \n",
    "                'movie': movies_vector, \n",
    "                'movie_features': feats_vector,\n",
    "                'user_context': context_vector}, y_vector"
   ]
  },
  {
   "cell_type": "code",
   "execution_count": 5,
   "metadata": {},
   "outputs": [],
   "source": [
    "features = ['product', 'year', 'Documentary', 'Western', 'Mystery', 'IMAX', 'Drama', 'Biography',\n",
    "       'Film-Noir', 'Music', 'Short', 'Thriller', 'Sport', 'Fantasy', 'Family',\n",
    "       'Children', 'Crime', 'Horror', 'Adult', 'Animation', 'Comedy',\n",
    "       'History', 'Adventure', 'Romance', 'War', 'Musical', 'Sci-Fi', 'Action']\n",
    "contexts = ['daytime', 'weekend']\n",
    "\n",
    "train_data = RecommendationDataset(dataset_type='train', \n",
    "                                   data_path='data/full_dataset.csv', \n",
    "                                   features=features, \n",
    "                                   contexts=contexts, \n",
    "                                   device=device)\n",
    "train_dataloader = torch.utils.data.DataLoader(train_data, batch_size=64, shuffle=True)"
   ]
  },
  {
   "cell_type": "code",
   "execution_count": 6,
   "metadata": {},
   "outputs": [
    {
     "name": "stderr",
     "output_type": "stream",
     "text": [
      "0it [00:22, ?it/s]\n"
     ]
    }
   ],
   "source": [
    "for (batch_idx, batch) in enumerate(train_dataloader):\n",
    "    X_batch, y_batch = batch\n",
    "    break"
   ]
  },
  {
   "cell_type": "code",
   "execution_count": 9,
   "metadata": {},
   "outputs": [
    {
     "data": {
      "text/plain": [
       "dict_keys(['user', 'movie', 'movie_features', 'user_context'])"
      ]
     },
     "execution_count": 9,
     "metadata": {},
     "output_type": "execute_result"
    }
   ],
   "source": [
    "X_batch.keys()"
   ]
  },
  {
   "cell_type": "code",
   "execution_count": 11,
   "metadata": {},
   "outputs": [
    {
     "name": "stdout",
     "output_type": "stream",
     "text": [
      "user :  torch.Size([64, 283228])\n",
      "movie :  torch.Size([64, 53889])\n",
      "movie_features :  torch.Size([64, 28])\n",
      "user_context :  torch.Size([64, 2])\n"
     ]
    }
   ],
   "source": [
    "for key in X_batch.keys():\n",
    "    print(key, ': ', X_batch[key].shape)"
   ]
  },
  {
   "cell_type": "code",
   "execution_count": 15,
   "metadata": {},
   "outputs": [
    {
     "data": {
      "text/plain": [
       "tensor([[0, 0, 0,  ..., 0, 0, 0],\n",
       "        [0, 0, 0,  ..., 0, 0, 0],\n",
       "        [0, 0, 0,  ..., 0, 0, 0],\n",
       "        ...,\n",
       "        [0, 0, 0,  ..., 0, 0, 0],\n",
       "        [0, 0, 0,  ..., 0, 0, 0],\n",
       "        [0, 0, 0,  ..., 0, 0, 0]])"
      ]
     },
     "execution_count": 15,
     "metadata": {},
     "output_type": "execute_result"
    }
   ],
   "source": [
    "X_batch['user']"
   ]
  },
  {
   "cell_type": "code",
   "execution_count": null,
   "metadata": {},
   "outputs": [],
   "source": [
    "model = RecommendationModel(len(train_data.all_users), len(train_data.all_movies), 50, len(features), len(contexts))"
   ]
  }
 ],
 "metadata": {
  "kernelspec": {
   "display_name": "Python 3.9.10 64-bit",
   "language": "python",
   "name": "python3"
  },
  "language_info": {
   "codemirror_mode": {
    "name": "ipython",
    "version": 3
   },
   "file_extension": ".py",
   "mimetype": "text/x-python",
   "name": "python",
   "nbconvert_exporter": "python",
   "pygments_lexer": "ipython3",
   "version": "3.9.10"
  },
  "orig_nbformat": 4,
  "vscode": {
   "interpreter": {
    "hash": "b0fa6594d8f4cbf19f97940f81e996739fb7646882a419484c72d19e05852a7e"
   }
  }
 },
 "nbformat": 4,
 "nbformat_minor": 2
}
