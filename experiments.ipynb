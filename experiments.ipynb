{
 "cells": [
  {
   "cell_type": "code",
   "execution_count": 1,
   "metadata": {},
   "outputs": [],
   "source": [
    "import pandas as pd\n",
    "import numpy as np\n",
    "from tqdm import tqdm\n",
    "import imdb\n",
    "import seaborn as sns\n",
    "import matplotlib.pyplot as plt\n",
    "import re\n",
    "from datetime import datetime\n",
    "from sklearn.model_selection import train_test_split\n",
    "\n",
    "import torch\n",
    "from torch import nn\n",
    "import pytorch_lightning as pl\n",
    "import torch.nn.functional as F\n",
    "from torch.utils.data import Dataset\n",
    "\n",
    "from model.RecommendationModel import RecommendationModel\n",
    "from dataloader.RecommendationDataset import RecommendationDataset"
   ]
  },
  {
   "cell_type": "code",
   "execution_count": 2,
   "metadata": {},
   "outputs": [],
   "source": [
    "features = ['product', 'year', 'Documentary', 'Western', 'Mystery', 'IMAX', 'Drama', 'Biography', 'Film-Noir', \n",
    "            'Music', 'Short', 'Thriller', 'Sport', 'Fantasy', 'Family', 'Children', 'Crime', 'Horror', 'Adult', \n",
    "            'Animation', 'Comedy', 'History', 'Adventure', 'Romance', 'War', 'Musical', 'Sci-Fi', 'Action']\n",
    "contexts = ['daytime', 'weekend']\n",
    "\n",
    "batch_size = 5120\n",
    "\n",
    "train_data = RecommendationDataset(dataset_type='train',\n",
    "                                   read_type='pkl',\n",
    "                                   data_path='data/full_dataset.csv', \n",
    "                                   features=features, \n",
    "                                   contexts=contexts)\n",
    "train_dataloader = torch.utils.data.DataLoader(train_data, batch_size=batch_size, shuffle=True)\n",
    "\n",
    "test_data = RecommendationDataset(dataset_type='test',\n",
    "                                  read_type='pkl',\n",
    "                                  data_path='data/full_dataset.csv', \n",
    "                                  features=features, \n",
    "                                  contexts=contexts)\n",
    "test_dataloader = torch.utils.data.DataLoader(test_data, batch_size=batch_size)"
   ]
  },
  {
   "cell_type": "code",
   "execution_count": 3,
   "metadata": {},
   "outputs": [
    {
     "name": "stderr",
     "output_type": "stream",
     "text": [
      "GPU available: True (cuda), used: True\n",
      "TPU available: False, using: 0 TPU cores\n",
      "IPU available: False, using: 0 IPUs\n",
      "HPU available: False, using: 0 HPUs\n",
      "LOCAL_RANK: 0 - CUDA_VISIBLE_DEVICES: [0]\n",
      "\n",
      "  | Name            | Type      | Params\n",
      "----------------------------------------------\n",
      "0 | loss_fn         | MSELoss   | 0     \n",
      "1 | user_embedding  | Embedding | 14.2 M\n",
      "2 | movie_embedding | Embedding | 2.9 M \n",
      "3 | um_dense        | Linear    | 5.0 K \n",
      "4 | um_dense_2      | Linear    | 510   \n",
      "5 | movie_features  | Linear    | 290   \n",
      "6 | user_context    | Linear    | 6     \n",
      "7 | final_fc1       | Linear    | 230   \n",
      "8 | output          | Linear    | 11    \n",
      "----------------------------------------------\n",
      "17.1 M    Trainable params\n",
      "0         Non-trainable params\n",
      "17.1 M    Total params\n",
      "68.290    Total estimated model params size (MB)\n"
     ]
    },
    {
     "data": {
      "application/json": {
       "ascii": false,
       "bar_format": null,
       "colour": null,
       "elapsed": 0.0156705379486084,
       "initial": 0,
       "n": 0,
       "ncols": null,
       "nrows": null,
       "postfix": null,
       "prefix": "Sanity Checking",
       "rate": null,
       "total": null,
       "unit": "it",
       "unit_divisor": 1000,
       "unit_scale": false
      },
      "application/vnd.jupyter.widget-view+json": {
       "model_id": "b332eb15cc144e37914b908635f54da7",
       "version_major": 2,
       "version_minor": 0
      },
      "text/plain": [
       "Sanity Checking: 0it [00:00, ?it/s]"
      ]
     },
     "metadata": {},
     "output_type": "display_data"
    },
    {
     "name": "stderr",
     "output_type": "stream",
     "text": [
      "/home/swynimko/.pyenv/versions/3.10.4/lib/python3.10/site-packages/pytorch_lightning/trainer/connectors/data_connector.py:219: PossibleUserWarning: The dataloader, val_dataloader 0, does not have many workers which may be a bottleneck. Consider increasing the value of the `num_workers` argument` (try 20 which is the number of cpus on this machine) in the `DataLoader` init to improve performance.\n",
      "  rank_zero_warn(\n",
      "/home/swynimko/.pyenv/versions/3.10.4/lib/python3.10/site-packages/pytorch_lightning/trainer/connectors/data_connector.py:219: PossibleUserWarning: The dataloader, train_dataloader, does not have many workers which may be a bottleneck. Consider increasing the value of the `num_workers` argument` (try 20 which is the number of cpus on this machine) in the `DataLoader` init to improve performance.\n",
      "  rank_zero_warn(\n"
     ]
    },
    {
     "data": {
      "application/json": {
       "ascii": false,
       "bar_format": null,
       "colour": null,
       "elapsed": 0.012095451354980469,
       "initial": 0,
       "n": 0,
       "ncols": null,
       "nrows": null,
       "postfix": null,
       "prefix": "Training",
       "rate": null,
       "total": null,
       "unit": "it",
       "unit_divisor": 1000,
       "unit_scale": false
      },
      "application/vnd.jupyter.widget-view+json": {
       "model_id": "a2bdc5f8ec794a51bb94db18cd807c98",
       "version_major": 2,
       "version_minor": 0
      },
      "text/plain": [
       "Training: 0it [00:00, ?it/s]"
      ]
     },
     "metadata": {},
     "output_type": "display_data"
    },
    {
     "name": "stderr",
     "output_type": "stream",
     "text": [
      "/home/swynimko/.pyenv/versions/3.10.4/lib/python3.10/site-packages/pytorch_lightning/trainer/trainer.py:653: UserWarning: Detected KeyboardInterrupt, attempting graceful shutdown...\n",
      "  rank_zero_warn(\"Detected KeyboardInterrupt, attempting graceful shutdown...\")\n"
     ]
    }
   ],
   "source": [
    "model = RecommendationModel(lr=0.1, \n",
    "                            users_count=max(train_data.all_users)+1, \n",
    "                            movies_count=max(train_data.all_movies)+1, \n",
    "                            embedding_size=50, \n",
    "                            features_count=len(features), \n",
    "                            context_count=len(contexts))\n",
    "\n",
    "trainer = pl.Trainer(max_epochs=100, accelerator='gpu', devices=1)\n",
    "trainer.fit(model, train_dataloaders=train_dataloader, val_dataloaders=test_dataloader)"
   ]
  }
 ],
 "metadata": {
  "kernelspec": {
   "display_name": "Python 3.10.4 64-bit ('3.10.4')",
   "language": "python",
   "name": "python3"
  },
  "language_info": {
   "codemirror_mode": {
    "name": "ipython",
    "version": 3
   },
   "file_extension": ".py",
   "mimetype": "text/x-python",
   "name": "python",
   "nbconvert_exporter": "python",
   "pygments_lexer": "ipython3",
   "version": "3.10.4"
  },
  "orig_nbformat": 4,
  "vscode": {
   "interpreter": {
    "hash": "ad8158641473b5565d34f6f27f26e3bb085f022e56f68a87bf10cfb1ae98e0d4"
   }
  }
 },
 "nbformat": 4,
 "nbformat_minor": 2
}
